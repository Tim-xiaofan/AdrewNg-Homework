{
  "cells": [
    {
      "cell_type": "code",
      "execution_count": 5,
      "metadata": {
        "collapsed": false
      },
      "outputs": [],
      "source": [
        "%matplotlib widget"
      ]
    },
    {
      "cell_type": "markdown",
      "metadata": {},
      "source": [
        "\n",
        "# Animated histogram\n",
        "\n",
        "Use histogram's `.BarContainer` to draw a bunch of rectangles for an animated\n",
        "histogram.\n"
      ]
    },
    {
      "cell_type": "code",
      "execution_count": 6,
      "metadata": {
        "collapsed": false
      },
      "outputs": [],
      "source": [
        "import numpy as np\n",
        "\n",
        "import matplotlib.pyplot as plt\n",
        "import matplotlib.animation as animation\n",
        "\n",
        "# Fixing random state for reproducibility\n",
        "np.random.seed(19680801)\n",
        "# Fixing bin edges\n",
        "HIST_BINS = np.linspace(-4, 4, 100)\n",
        "\n",
        "# histogram our data with numpy\n",
        "data = np.random.randn(1000)\n",
        "n, _ = np.histogram(data, HIST_BINS)"
      ]
    },
    {
      "cell_type": "markdown",
      "metadata": {},
      "source": [
        "To animate the histogram, we need an ``animate`` function, which generates\n",
        "a random set of numbers and updates the heights of rectangles. We utilize a\n",
        "python closure to track an instance of `.BarContainer` whose `.Rectangle`\n",
        "patches we shall update.\n",
        "\n"
      ]
    },
    {
      "cell_type": "code",
      "execution_count": 7,
      "metadata": {
        "collapsed": false
      },
      "outputs": [],
      "source": [
        "def prepare_animation(bar_container):\n",
        "\n",
        "    def animate(frame_number):\n",
        "        # simulate new data coming in\n",
        "        data = np.random.randn(1000)\n",
        "        n, _ = np.histogram(data, HIST_BINS)\n",
        "        for count, rect in zip(n, bar_container.patches):\n",
        "            rect.set_height(count)\n",
        "        return bar_container.patches\n",
        "    return animate"
      ]
    },
    {
      "cell_type": "markdown",
      "metadata": {},
      "source": [
        "Using :func:`~matplotlib.pyplot.hist` allows us to get an instance of\n",
        "`.BarContainer`, which is a collection of `.Rectangle` instances. Calling\n",
        "``prepare_animation`` will define ``animate`` function working with supplied\n",
        "`.BarContainer`, all this is used to setup `.FuncAnimation`.\n",
        "\n"
      ]
    },
    {
      "cell_type": "code",
      "execution_count": 8,
      "metadata": {
        "collapsed": false
      },
      "outputs": [
        {
          "data": {
            "application/vnd.jupyter.widget-view+json": {
              "model_id": "6ded3ca95e6443eaa06b3767e4bdeafe",
              "version_major": 2,
              "version_minor": 0
            },
            "image/png": "[encoded data removed]",
            "text/html": [
              "\n",
              "            <div style=\"display: inline-block;\">\n",
              "                <div class=\"jupyter-widgets widget-label\" style=\"text-align: center;\">\n",
              "                    Figure\n",
              "                </div>\n",
              "                <img src='data:image/png;base64,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' width=432.0/>\n",
              "            </div>\n",
              "        "
            ],
            "text/plain": [
              "Canvas(toolbar=Toolbar(toolitems=[('Home', 'Reset original view', 'home', 'home'), ('Back', 'Back to previous …"
            ]
          },
          "metadata": {},
          "output_type": "display_data"
        }
      ],
      "source": [
        "fig, ax = plt.subplots()\n",
        "_, _, bar_container = ax.hist(data, HIST_BINS, lw=1,\n",
        "                              ec=\"yellow\", fc=\"green\", alpha=0.5)\n",
        "ax.set_ylim(top=55)  # set safe limit to ensure that all data is visible.\n",
        "\n",
        "ani = animation.FuncAnimation(fig, prepare_animation(bar_container), 50,\n",
        "                              repeat=False, blit=True)\n",
        "plt.show()"
      ]
    }
  ],
  "metadata": {
    "kernelspec": {
      "display_name": "Python 3",
      "language": "python",
      "name": "python3"
    },
    "language_info": {
      "codemirror_mode": {
        "name": "ipython",
        "version": 3
      },
      "file_extension": ".py",
      "mimetype": "text/x-python",
      "name": "python",
      "nbconvert_exporter": "python",
      "pygments_lexer": "ipython3",
      "version": "3.10.2"
    }
  },
  "nbformat": 4,
  "nbformat_minor": 0
}
